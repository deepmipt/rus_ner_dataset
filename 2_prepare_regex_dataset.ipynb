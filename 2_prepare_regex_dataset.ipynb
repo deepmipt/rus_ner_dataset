{
 "cells": [
  {
   "cell_type": "code",
   "execution_count": 7,
   "metadata": {},
   "outputs": [],
   "source": [
    "from pathlib import Path\n",
    "import re\n",
    "from itertools import chain\n",
    "from nltk.tokenize import wordpunct_tokenize, sent_tokenize\n",
    "import random\n",
    "import csv\n",
    "from functools import reduce\n",
    "\n",
    "DATA_FOLDER = Path('/data/NER')\n",
    "\n",
    "zonazakona_sentences = DATA_FOLDER / 'zonazakona.txt'\n",
    "legalforum_sentences = DATA_FOLDER / 'legalforum.txt'\n",
    "yuristforum_sentences = DATA_FOLDER / 'yuristforum.txt'\n",
    "find_people_sentences = DATA_FOLDER / 'find_people.txt'\n",
    "vkdata_ads_sentences = DATA_FOLDER / 'vkdata_ads.txt'\n",
    "vkdata_flat_sentences = DATA_FOLDER / 'vkdata_flat.txt'\n",
    "\n",
    "\n",
    "regex_dataset = DATA_FOLDER / 'regex_dataset.tsv'"
   ]
  },
  {
   "cell_type": "code",
   "execution_count": 11,
   "metadata": {},
   "outputs": [
    {
     "name": "stdout",
     "output_type": "stream",
     "text": [
      "CPU times: user 2.95 s, sys: 638 ms, total: 3.59 s\n",
      "Wall time: 3.59 s\n"
     ]
    }
   ],
   "source": [
    "%%time\n",
    "\n",
    "sentences = []\n",
    "sources = []\n",
    "for src, sent_file in [('zonazakona', zonazakona_sentences), \n",
    "                       ('legalforum', legalforum_sentences), \n",
    "                       ('yuristforum', yuristforum_sentences), \n",
    "                       ('find_people', find_people_sentences), \n",
    "                       ('vkdata_ads', vkdata_ads_sentences), \n",
    "                       ('vkdata_flat', vkdata_flat_sentences)]:\n",
    "    with sent_file.open() as f:\n",
    "        sents = list(f)\n",
    "        sentences.extend(sents)\n",
    "        sources.extend([src] * len(sents))"
   ]
  },
  {
   "cell_type": "code",
   "execution_count": 12,
   "metadata": {},
   "outputs": [
    {
     "data": {
      "text/plain": [
       "8241309"
      ]
     },
     "execution_count": 12,
     "metadata": {},
     "output_type": "execute_result"
    }
   ],
   "source": [
    "len(sentences)"
   ]
  },
  {
   "cell_type": "code",
   "execution_count": 17,
   "metadata": {},
   "outputs": [
    {
     "name": "stdout",
     "output_type": "stream",
     "text": [
      "CPU times: user 2min 10s, sys: 1.57 s, total: 2min 11s\n",
      "Wall time: 2min 14s\n"
     ]
    }
   ],
   "source": [
    "%%time\n",
    "\n",
    "STREET_WORDS = re.compile(r'[^\\w](ул|улиц|проезд|проспект|шоссе|пр\\.|пр\\-т)')\n",
    "ADDRESS_WORDS = re.compile(r'[^\\w](ул|д[^w]?[\\d]+)[\\.\\ $]')\n",
    "\n",
    "NUMBER_RE = re.compile(r'[\\d]+([\\/к]\\d+)?')\n",
    "INDEX_RE = re.compile(r'[^\\d\\w]\\d{6}[^\\d\\w]')\n",
    "ADDRESS_SHORT_RE = re.compile(r'[^\\d\\.](ул|кв|г|пр|ш|стр|лит|д|м|корп|пл)[\\.\\ ]')\n",
    "ADDRESS_LONG_RE = re.compile(r'улиц[?\\w<Б]')\n",
    "MANY_SPACES_RE = re.compile(r'[\\ \\-\\,]{2,}')\n",
    "INLINE_DOTS_RE = re.compile(r'\\ [\\ \\.]+\\ ')\n",
    "\n",
    "with regex_dataset.open('w') as f:\n",
    "    c = csv.writer(f, delimiter='\\t')    \n",
    "    c.writerow(['addr', 'text', 'orig', 'source'])\n",
    "    i = 0\n",
    "    for src, s in zip(sources, sentences):\n",
    "        k = ADDRESS_WORDS.search(s.replace('т.д.', ' ').replace('т.е.', ' ')) is not None \\\n",
    "            and NUMBER_RE.search(s) is not None\n",
    "        line = reduce(lambda res, regex: regex.sub(' ', res), \n",
    "                      [INDEX_RE, NUMBER_RE, ADDRESS_LONG_RE, ADDRESS_SHORT_RE, MANY_SPACES_RE, INLINE_DOTS_RE], \n",
    "                      s.strip().replace('№', '')).strip()\n",
    "        if len(line) < 2:\n",
    "            continue\n",
    "        c.writerow([int(k), line, s.strip(), src])\n",
    "        i += int(k)\n",
    "i\n",
    "        "
   ]
  },
  {
   "cell_type": "code",
   "execution_count": 33,
   "metadata": {},
   "outputs": [],
   "source": [
    "ex = ''' общем, за этот срок, посчитав размер неустойки по формуле страховая сумма (120000р.)\n",
    "- направить либо представить лично письменное обращение по адресу: 153000, г. Иваново, улица Багаева, дом 27;\n",
    "- записаться на прием по адресу: 153000, г. Иваново, улица Багаева, дом 27 каб.\n",
    "находящийся по адресу: 103160, г. Москва, ул.Знаменка, 19, к-160\n",
    "ГСП-3 125993 г. Москва, улица Большая Дмитровка, 15а\n",
    "В результате неправомерных действий УУУУУУ мне причинен значительный материальный ущерб в сумме 930099 (Девятисот тридцати тысяч девяноста девяти) рублей 98 копеек.\n",
    "Адрес: 142203, г. Серпухов, ул.Советская, д.80/8\n",
    "Есть специализированные психологические центры, которые занимаются экспертизой по направлению суда в области сексульного насилия над детьми, например  Центр психолого-медико-социального сопровождения \"ОЗОН\" 107066, г. Москва, улица Нижняя Красносельская, дом 45/17 (м.\n",
    "Управление по вопросам гражданства: 109240,г.Москва, Боярский переулок, д.4\n",
    "959-89-43, 959-88-36, сайт labor.ru, адрес: 107078 москва, докучаев переулок, 12\n",
    "'''.splitlines()"
   ]
  },
  {
   "cell_type": "code",
   "execution_count": 4,
   "metadata": {},
   "outputs": [
    {
     "data": {
      "text/plain": [
       "80.0"
      ]
     },
     "execution_count": 4,
     "metadata": {},
     "output_type": "execute_result"
    }
   ],
   "source": [
    "4800 / 60"
   ]
  }
 ],
 "metadata": {
  "kernelspec": {
   "display_name": "Python 3",
   "language": "python",
   "name": "python3"
  },
  "language_info": {
   "codemirror_mode": {
    "name": "ipython",
    "version": 3
   },
   "file_extension": ".py",
   "mimetype": "text/x-python",
   "name": "python",
   "nbconvert_exporter": "python",
   "pygments_lexer": "ipython3",
   "version": "3.6.3"
  }
 },
 "nbformat": 4,
 "nbformat_minor": 2
}
