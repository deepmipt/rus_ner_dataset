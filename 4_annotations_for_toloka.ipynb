{
 "cells": [
  {
   "cell_type": "code",
   "execution_count": 16,
   "metadata": {},
   "outputs": [],
   "source": [
    "from pathlib import Path\n",
    "import random\n",
    "import pandas as pd\n",
    "import torch\n",
    "import torch.nn as nn\n",
    "from torch.autograd import Variable\n",
    "import numpy as np\n",
    "import sys\n",
    "import csv\n",
    "from nltk import word_tokenize\n",
    "\n",
    "import matplotlib.pyplot as plt\n",
    "\n",
    "DATA_FOLDER = Path('/data/NER')\n",
    "DATASET = DATA_FOLDER / 'regex_dataset.tsv'\n",
    "DATASET_TO_ANNOTATE = DATA_FOLDER / 'annotation_sentences.csv'\n",
    "DATASET_FOR_TOLOKA = DATA_FOLDER / 'address_toloka_input.tsv'"
   ]
  },
  {
   "cell_type": "code",
   "execution_count": 22,
   "metadata": {},
   "outputs": [],
   "source": [
    "sentences = []\n",
    "for g, d in pd.read_csv(DATASET_TO_ANNOTATE).groupby('source'):\n",
    "    sentences.extend(d.sort_values('score', ascending=False).iloc[:10].sentences)"
   ]
  },
  {
   "cell_type": "code",
   "execution_count": 23,
   "metadata": {},
   "outputs": [],
   "source": [
    "def tokenize_and_join(sentence):\n",
    "    return ' '.join(word_tokenize(sentence))\n",
    "\n",
    "random.shuffle(sentences)\n",
    "\n",
    "# data = pd.DataFrame({\"INPUT:input\": pd.read_csv(DATASET_TO_ANNOTATE).sentences.apply(tokenize_and_join)[:100]})\n",
    "data = pd.DataFrame({\"INPUT:input\": [' '.join(word_tokenize(s)) for s in sentences],\n",
    "                     \"INPUT:orig\": sentences})\n",
    "data.to_csv(DATASET_FOR_TOLOKA, sep='\\t', index=False)"
   ]
  },
  {
   "cell_type": "code",
   "execution_count": 19,
   "metadata": {},
   "outputs": [
    {
     "data": {
      "text/html": [
       "<div>\n",
       "<style scoped>\n",
       "    .dataframe tbody tr th:only-of-type {\n",
       "        vertical-align: middle;\n",
       "    }\n",
       "\n",
       "    .dataframe tbody tr th {\n",
       "        vertical-align: top;\n",
       "    }\n",
       "\n",
       "    .dataframe thead th {\n",
       "        text-align: right;\n",
       "    }\n",
       "</style>\n",
       "<table border=\"1\" class=\"dataframe\">\n",
       "  <thead>\n",
       "    <tr style=\"text-align: right;\">\n",
       "      <th></th>\n",
       "      <th>INPUT:input</th>\n",
       "    </tr>\n",
       "  </thead>\n",
       "  <tbody>\n",
       "    <tr>\n",
       "      <th>0</th>\n",
       "      <td>последний адрес:    г. Брянск - 13, ул.Литейна...</td>\n",
       "    </tr>\n",
       "    <tr>\n",
       "      <th>1</th>\n",
       "      <td>Дочь:- Раиса Леонтьевна 10 – 12.</td>\n",
       "    </tr>\n",
       "    <tr>\n",
       "      <th>2</th>\n",
       "      <td>Проживала по адресу г. Адыгейск,ул.Ленина 26а-11.</td>\n",
       "    </tr>\n",
       "    <tr>\n",
       "      <th>3</th>\n",
       "      <td>Они Жили в Красном Лимане на ул Севастопольска...</td>\n",
       "    </tr>\n",
       "    <tr>\n",
       "      <th>4</th>\n",
       "      <td>Москва , ул.Гурьянова д.61/1 кв .</td>\n",
       "    </tr>\n",
       "    <tr>\n",
       "      <th>5</th>\n",
       "      <td>Которая, также по имеющейся информации в 1977 ...</td>\n",
       "    </tr>\n",
       "    <tr>\n",
       "      <th>6</th>\n",
       "      <td>Зовут ее Данник(Горбачева) Елена Ивановна 1969...</td>\n",
       "    </tr>\n",
       "    <tr>\n",
       "      <th>7</th>\n",
       "      <td>обл.проживал г. Москва ул Софийская набережная...</td>\n",
       "    </tr>\n",
       "    <tr>\n",
       "      <th>8</th>\n",
       "      <td>Жил в Москве, К-27, г.Москва ул.Войсковая 3-42...</td>\n",
       "    </tr>\n",
       "    <tr>\n",
       "      <th>9</th>\n",
       "      <td>Месели Аургазинского р-на, Башкирской АССР 190...</td>\n",
       "    </tr>\n",
       "  </tbody>\n",
       "</table>\n",
       "</div>"
      ],
      "text/plain": [
       "                                         INPUT:input\n",
       "0  последний адрес:    г. Брянск - 13, ул.Литейна...\n",
       "1                   Дочь:- Раиса Леонтьевна 10 – 12.\n",
       "2  Проживала по адресу г. Адыгейск,ул.Ленина 26а-11.\n",
       "3  Они Жили в Красном Лимане на ул Севастопольска...\n",
       "4                  Москва , ул.Гурьянова д.61/1 кв .\n",
       "5  Которая, также по имеющейся информации в 1977 ...\n",
       "6  Зовут ее Данник(Горбачева) Елена Ивановна 1969...\n",
       "7  обл.проживал г. Москва ул Софийская набережная...\n",
       "8  Жил в Москве, К-27, г.Москва ул.Войсковая 3-42...\n",
       "9  Месели Аургазинского р-на, Башкирской АССР 190..."
      ]
     },
     "execution_count": 19,
     "metadata": {},
     "output_type": "execute_result"
    }
   ],
   "source": [
    "data[:10]"
   ]
  },
  {
   "cell_type": "code",
   "execution_count": null,
   "metadata": {},
   "outputs": [],
   "source": []
  }
 ],
 "metadata": {
  "kernelspec": {
   "display_name": "Python 3",
   "language": "python",
   "name": "python3"
  },
  "language_info": {
   "codemirror_mode": {
    "name": "ipython",
    "version": 3
   },
   "file_extension": ".py",
   "mimetype": "text/x-python",
   "name": "python",
   "nbconvert_exporter": "python",
   "pygments_lexer": "ipython3",
   "version": "3.6.3"
  }
 },
 "nbformat": 4,
 "nbformat_minor": 2
}
