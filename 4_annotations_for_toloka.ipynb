{
 "cells": [
  {
   "cell_type": "code",
   "execution_count": 15,
   "metadata": {},
   "outputs": [],
   "source": [
    "from pathlib import Path\n",
    "import random\n",
    "import pandas as pd\n",
    "import torch\n",
    "import torch.nn as nn\n",
    "from torch.autograd import Variable\n",
    "import numpy as np\n",
    "import sys\n",
    "import csv\n",
    "from nltk.tokenize import wordpunct_tokenize\n",
    "\n",
    "import matplotlib.pyplot as plt\n",
    "\n",
    "DATA_FOLDER = Path('/data/NER')\n",
    "DATASET = DATA_FOLDER / 'regex_dataset.tsv'\n",
    "DATASET_TO_ANNOTATE = DATA_FOLDER / 'annotation_sentences.csv'\n",
    "DATASET_FOR_TOLOKA = DATA_FOLDER / 'toloka_input.tsv'"
   ]
  },
  {
   "cell_type": "code",
   "execution_count": 17,
   "metadata": {},
   "outputs": [],
   "source": [
    "def tokenize_and_join(sentence):\n",
    "    return ' '.join(wordpunct_tokenize(sentence))\n",
    "\n",
    "data = pd.DataFrame({\"INPUT:input\": pd.read_csv(DATASET_TO_ANNOTATE).sentences.apply(tokenize_and_join)[:100]})\n",
    "data.to_csv(DATASET_FOR_TOLOKA, sep='\\t', index=False)"
   ]
  },
  {
   "cell_type": "code",
   "execution_count": 18,
   "metadata": {},
   "outputs": [
    {
     "data": {
      "text/html": [
       "<div>\n",
       "<style scoped>\n",
       "    .dataframe tbody tr th:only-of-type {\n",
       "        vertical-align: middle;\n",
       "    }\n",
       "\n",
       "    .dataframe tbody tr th {\n",
       "        vertical-align: top;\n",
       "    }\n",
       "\n",
       "    .dataframe thead th {\n",
       "        text-align: right;\n",
       "    }\n",
       "</style>\n",
       "<table border=\"1\" class=\"dataframe\">\n",
       "  <thead>\n",
       "    <tr style=\"text-align: right;\">\n",
       "      <th></th>\n",
       "      <th>INPUT:input</th>\n",
       "    </tr>\n",
       "  </thead>\n",
       "  <tbody>\n",
       "    <tr>\n",
       "      <th>0</th>\n",
       "      <td>Но он не выполнил ни одного условия договора и...</td>\n",
       "    </tr>\n",
       "    <tr>\n",
       "      <th>1</th>\n",
       "      <td>В данном сообщении от 27 . 01 . 2011 дословно ...</td>\n",
       "    </tr>\n",
       "    <tr>\n",
       "      <th>2</th>\n",
       "      <td>Сотрудниками Бюро специальных технических меро...</td>\n",
       "    </tr>\n",
       "    <tr>\n",
       "      <th>3</th>\n",
       "      <td>В том числе его бывшие жены : Селина Елена Ива...</td>\n",
       "    </tr>\n",
       "    <tr>\n",
       "      <th>4</th>\n",
       "      <td>Селину Валентина Валентиновичу в иске к Адвока...</td>\n",
       "    </tr>\n",
       "    <tr>\n",
       "      <th>5</th>\n",
       "      <td>К уведомлению была приложена копия свидетельст...</td>\n",
       "    </tr>\n",
       "    <tr>\n",
       "      <th>6</th>\n",
       "      <td>начальника Управления Министерства юстиции по ...</td>\n",
       "    </tr>\n",
       "    <tr>\n",
       "      <th>7</th>\n",
       "      <td>Девушка по телефону объяснила , что консультац...</td>\n",
       "    </tr>\n",
       "    <tr>\n",
       "      <th>8</th>\n",
       "      <td>Новогодний подарок получили жители дома 8а по ...</td>\n",
       "    </tr>\n",
       "    <tr>\n",
       "      <th>9</th>\n",
       "      <td>и гражданин Российской Федерации ____ , ____го...</td>\n",
       "    </tr>\n",
       "  </tbody>\n",
       "</table>\n",
       "</div>"
      ],
      "text/plain": [
       "                                         INPUT:input\n",
       "0  Но он не выполнил ни одного условия договора и...\n",
       "1  В данном сообщении от 27 . 01 . 2011 дословно ...\n",
       "2  Сотрудниками Бюро специальных технических меро...\n",
       "3  В том числе его бывшие жены : Селина Елена Ива...\n",
       "4  Селину Валентина Валентиновичу в иске к Адвока...\n",
       "5  К уведомлению была приложена копия свидетельст...\n",
       "6  начальника Управления Министерства юстиции по ...\n",
       "7  Девушка по телефону объяснила , что консультац...\n",
       "8  Новогодний подарок получили жители дома 8а по ...\n",
       "9  и гражданин Российской Федерации ____ , ____го..."
      ]
     },
     "execution_count": 18,
     "metadata": {},
     "output_type": "execute_result"
    }
   ],
   "source": [
    "data[:10]"
   ]
  },
  {
   "cell_type": "code",
   "execution_count": null,
   "metadata": {},
   "outputs": [],
   "source": []
  }
 ],
 "metadata": {
  "kernelspec": {
   "display_name": "Python 3",
   "language": "python",
   "name": "python3"
  },
  "language_info": {
   "codemirror_mode": {
    "name": "ipython",
    "version": 3
   },
   "file_extension": ".py",
   "mimetype": "text/x-python",
   "name": "python",
   "nbconvert_exporter": "python",
   "pygments_lexer": "ipython3",
   "version": "3.6.3"
  }
 },
 "nbformat": 4,
 "nbformat_minor": 2
}
