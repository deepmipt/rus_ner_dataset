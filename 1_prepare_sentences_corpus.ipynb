{
 "cells": [
  {
   "cell_type": "code",
   "execution_count": 1,
   "metadata": {},
   "outputs": [],
   "source": [
    "import gensim\n",
    "from pathlib import Path\n",
    "import json\n",
    "import csv\n",
    "import re\n",
    "from itertools import chain\n",
    "from nltk.tokenize import wordpunct_tokenize, sent_tokenize\n",
    "import random\n",
    "from pymystem3 import Mystem\n",
    "\n",
    "_m = Mystem()\n",
    "\n",
    "URL_REGEX = re.compile(r'(?i)\\b((?:https?://|www\\d{0,3}[.]|[a-z0-9.\\-]+[.][a-z]{2,4}/)(?:[^\\s()<>]+|\\(([^\\s()<>]+|(\\([^\\s()<>]+\\)))*\\))+(?:\\(([^\\s()<>]+|(\\([^\\s()<>]+\\)))*\\)|[^\\s`!()\\[\\]{};:\\'\".,<>?\\xab\\xbb\\u201c\\u201d\\u2018\\u2019]))')\n",
    "URL_CODE = ' _URL_ '\n",
    "MONEY_REGEX = re.compile(r'\\d+([\\.\\,]\\d{,2})?(\\ ?р(уб)?\\.?)[^\\w]')\n",
    "MONEY_CODE = ' _MONEY_ '\n",
    "DATE_REGEX = re.compile(r'\\d{1,2}\\.\\d{1,2}.\\d{2,4}( г\\.?)?')\n",
    "DATE_CODE = ' _DATE_ '\n",
    "TIME_REGEX = re.compile(r'\\d\\d:\\d\\d')\n",
    "TIME_CODE = ' _TIME_ '\n",
    "ANON_REGEX = re.compile(r'(-{3,}|_{3,})')\n",
    "ANON_CODE = ' _ANON_ '\n",
    "PHONE_REGEX = re.compile(r'((\\+?7|8)[ \\-] ?)?((\\(\\d{3}\\))|(\\d{3}))?([ \\-])?(\\d{3}[\\- ]?\\d{2}[\\- ]?\\d{2})', re.S)\n",
    "PHONE_CODE = ' _PHONE_ '\n",
    "EMAIL_REGEX = re.compile(r'[A-Za-z0-9\\.\\+_-]+@[A-Za-z0-9\\._-]+\\.[a-zA-Z]*')\n",
    "EMAIL_CODE = ' _EMAIL_ '\n",
    "\n",
    "QUOTE_REGEX = re.compile(r'\\[QUOTE=[^\\]]+\\]')\n",
    "\n",
    "\n",
    "DOTS_REGEX = re.compile(r'[\\.\\!\\?]{3,}')\n",
    "SMILES_CLOSE_REGEX = re.compile(r'\\){2,}')\n",
    "SMILES_OPEN_REGEX = re.compile(r'\\({2,}')\n",
    "\n",
    "\n",
    "\n",
    "DATA_FOLDER = Path('/data/legal_ner')\n",
    "RAW_DATA_FOLDER = DATA_FOLDER / 'raw'\n",
    "\n",
    "yuristforum_data = RAW_DATA_FOLDER / 'yuristforum.jl'\n",
    "yuristforum_sentences = DATA_FOLDER / 'yuristforum.txt'\n",
    "\n",
    "zonazakona_data = RAW_DATA_FOLDER / 'zonazakona.jl'\n",
    "zonazakona_sentences = DATA_FOLDER / 'zonazakona.txt'\n",
    "\n",
    "legalforum_data = RAW_DATA_FOLDER / 'legalforum.jl'\n",
    "legalforum_sentences = DATA_FOLDER / 'legalforum.txt'\n",
    "\n",
    "find_people_data = RAW_DATA_FOLDER / 'find_people.jl'\n",
    "find_people_sentences = DATA_FOLDER / 'find_people.txt'\n",
    "\n",
    "vk_flat_data = RAW_DATA_FOLDER / 'vkdata_flat.csv'\n",
    "vk_flat_sentences = DATA_FOLDER / 'vkdata_flat.txt'\n",
    "\n",
    "vk_ads_data = RAW_DATA_FOLDER / 'vkdata_ads.csv'\n",
    "vk_ads_sentences = DATA_FOLDER / 'vkdata_ads.txt'\n",
    "\n",
    "\n",
    "# corpus_by_lines_data = DATA_FOLDER / 'corpus_by_lines.txt'\n",
    "# corpus_by_posts_data = DATA_FOLDER / 'corpus_by_posts.txt'\n"
   ]
  },
  {
   "cell_type": "code",
   "execution_count": 2,
   "metadata": {},
   "outputs": [],
   "source": [
    "def lemmatize(s):\n",
    "    global _m\n",
    "    try:\n",
    "        return _m.lemmatize(s)\n",
    "    except BrokenPipeError:\n",
    "        _m = Mystem()\n",
    "        return lemmatize(s)"
   ]
  },
  {
   "cell_type": "code",
   "execution_count": 5,
   "metadata": {},
   "outputs": [],
   "source": [
    "def split_lines(raw_lines):\n",
    "    ABRIDGED_SPLIT = re.compile(r'[^\\w](ул|д|кв|г|п|ст|пр|см|тел|т\\.е|\\d*м|стр|мкр|\\d{4}г|корп|т\\.ч|зам|т\\.к|им|руб|коп|адм|обл|тыс|эт|\\d-?к|к\\.у|\\d*т\\.р|сан|\\d*к|\\d*м)\\.$')\n",
    "    INITIALS_SPLIT = re.compile(r'[^\\w][А-Я]\\.[А-Я]\\.$')\n",
    "    # WRONG_SPLIT = re.compile('[^\\w]ул\\.$')\n",
    "    sentences = []\n",
    "    sentences_set = set()\n",
    "    i = 0\n",
    "    for lines in raw_lines:\n",
    "        for line in lines:\n",
    "            sents = sent_tokenize(line)            \n",
    "            prefix = ''\n",
    "            for s in sents:\n",
    "                s = s.strip()\n",
    "                if s.startswith('Сообщение от'):\n",
    "                    continue\n",
    "                elif ABRIDGED_SPLIT.search(s):\n",
    "                    prefix += s\n",
    "                elif INITIALS_SPLIT.search(s):\n",
    "                    prefix += s                \n",
    "    #                 print(prefix)\n",
    "                else:\n",
    "                    if prefix:\n",
    "                        i += 1\n",
    "                    sent = prefix + s\n",
    "                    if sent not in sentences_set:\n",
    "                        sentences.append(sent)\n",
    "                        sentences_set.add(sent)                    \n",
    "                    prefix = ''\n",
    "    #     if i > 100:\n",
    "    #         break\n",
    "    print(i)\n",
    "    return sentences"
   ]
  },
  {
   "cell_type": "code",
   "execution_count": 25,
   "metadata": {},
   "outputs": [
    {
     "name": "stdout",
     "output_type": "stream",
     "text": [
      "320\n",
      "CPU times: user 258 ms, sys: 47 µs, total: 258 ms\n",
      "Wall time: 258 ms\n"
     ]
    }
   ],
   "source": [
    "%%time\n",
    "\n",
    "raw_lines = []\n",
    "with find_people_data.open() as f:\n",
    "    for line in f:\n",
    "        text = json.loads(line)['text']\n",
    "        raw_lines.append([text])\n",
    "\n",
    "sentences = split_lines(raw_lines)\n",
    "\n",
    "with find_people_sentences.open('w') as f:\n",
    "    for s in sentences:\n",
    "        print(s, file=f)"
   ]
  },
  {
   "cell_type": "code",
   "execution_count": 6,
   "metadata": {},
   "outputs": [
    {
     "name": "stdout",
     "output_type": "stream",
     "text": [
      "10088\n",
      "CPU times: user 6.44 s, sys: 20 ms, total: 6.46 s\n",
      "Wall time: 6.46 s\n"
     ]
    }
   ],
   "source": [
    "%%time\n",
    "\n",
    "raw_lines = []\n",
    "with vk_flat_data.open() as f:\n",
    "    cr = csv.reader(f)\n",
    "    for cell in cr:\n",
    "        cell = cell[0].strip()\n",
    "        if cell:\n",
    "            raw_lines.append([' '.join(line.strip() for line in cell.splitlines() if line.strip())])\n",
    "\n",
    "sentences = split_lines(raw_lines)\n",
    "\n",
    "with vk_flat_sentences.open('w') as f:\n",
    "    for s in sentences:\n",
    "        print(s, file=f)"
   ]
  },
  {
   "cell_type": "code",
   "execution_count": 22,
   "metadata": {},
   "outputs": [
    {
     "name": "stdout",
     "output_type": "stream",
     "text": [
      "233\n",
      "CPU times: user 135 ms, sys: 0 ns, total: 135 ms\n",
      "Wall time: 139 ms\n"
     ]
    }
   ],
   "source": [
    "%%time\n",
    "\n",
    "tags = re.compile(r'\\ ?#\\w+')\n",
    "numbers = re.compile(r'^\\d+\\.? *')\n",
    "\n",
    "raw_lines = []\n",
    "with vk_ads_data.open() as f:\n",
    "    cr = csv.reader(f)\n",
    "    for cell in cr:\n",
    "        if cell:\n",
    "            cell = cell[0].strip()\n",
    "        if cell:\n",
    "            raw_lines.append([' '.join(numbers.sub('', tags.sub('', line)).strip() for line in cell.splitlines() if line.strip())])\n",
    "\n",
    "sentences = split_lines(raw_lines)\n",
    "\n",
    "with vk_ads_sentences.open('w') as f:\n",
    "    for s in sentences:\n",
    "        print(s, file=f)"
   ]
  },
  {
   "cell_type": "code",
   "execution_count": 7,
   "metadata": {},
   "outputs": [
    {
     "name": "stdout",
     "output_type": "stream",
     "text": [
      "37182\n"
     ]
    },
    {
     "ename": "NameError",
     "evalue": "name 'corpus_sentences' is not defined",
     "output_type": "error",
     "traceback": [
      "\u001b[0;31m---------------------------------------------------------------------------\u001b[0m",
      "\u001b[0;31mNameError\u001b[0m                                 Traceback (most recent call last)",
      "\u001b[0;32m<timed exec>\u001b[0m in \u001b[0;36m<module>\u001b[0;34m()\u001b[0m\n",
      "\u001b[0;31mNameError\u001b[0m: name 'corpus_sentences' is not defined"
     ]
    }
   ],
   "source": [
    "%%time\n",
    "\n",
    "raw_lines = []\n",
    "with yuristforum_data.open() as f:\n",
    "    for line in f:\n",
    "        j = json.loads(line)\n",
    "        raw_lines.append([line.strip() for line in j['answer'].splitlines() if line.strip()])\n",
    "\n",
    "sentences = split_lines(raw_lines)\n",
    "\n",
    "with corpus_sentences.open('w') as f:\n",
    "    for s in sentences:\n",
    "        print(s, file=f)"
   ]
  },
  {
   "cell_type": "code",
   "execution_count": 5,
   "metadata": {},
   "outputs": [
    {
     "name": "stdout",
     "output_type": "stream",
     "text": [
      "29426\n",
      "CPU times: user 26.9 s, sys: 196 ms, total: 27.1 s\n",
      "Wall time: 27.1 s\n"
     ]
    }
   ],
   "source": [
    "%%time\n",
    "\n",
    "raw_lines = []\n",
    "with legalforum_data.open() as f:\n",
    "    for line in f:\n",
    "        j = json.loads(line)\n",
    "        raw_lines.append(j['text'].splitlines())\n",
    "        \n",
    "sentences = split_lines(raw_lines)\n",
    "\n",
    "with legalforum_sentences.open('w') as f:\n",
    "    for s in sentences:\n",
    "        print(s, file=f)"
   ]
  },
  {
   "cell_type": "code",
   "execution_count": 6,
   "metadata": {},
   "outputs": [
    {
     "name": "stdout",
     "output_type": "stream",
     "text": [
      "291937\n",
      "CPU times: user 5min 1s, sys: 6.38 s, total: 5min 7s\n",
      "Wall time: 5min 10s\n"
     ]
    }
   ],
   "source": [
    "%%time\n",
    "\n",
    "raw_lines = []\n",
    "with zonazakona_data.open() as f:\n",
    "    for line in f:\n",
    "        j = json.loads(line)\n",
    "        raw_lines.append(j['text'].splitlines())\n",
    "        \n",
    "sentences = split_lines(raw_lines)\n",
    "\n",
    "with zonazakona_sentences.open('w') as f:\n",
    "    for s in sentences:\n",
    "        print(s, file=f)"
   ]
  }
 ],
 "metadata": {
  "kernelspec": {
   "display_name": "Python 3",
   "language": "python",
   "name": "python3"
  },
  "language_info": {
   "codemirror_mode": {
    "name": "ipython",
    "version": 3
   },
   "file_extension": ".py",
   "mimetype": "text/x-python",
   "name": "python",
   "nbconvert_exporter": "python",
   "pygments_lexer": "ipython3",
   "version": "3.6.5"
  }
 },
 "nbformat": 4,
 "nbformat_minor": 2
}
