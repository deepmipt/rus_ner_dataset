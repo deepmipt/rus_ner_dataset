{
 "cells": [
  {
   "cell_type": "code",
   "execution_count": 167,
   "metadata": {},
   "outputs": [],
   "source": [
    "import vk\n",
    "from html2text import html2text\n",
    "import re\n",
    "import json\n",
    "import os"
   ]
  },
  {
   "cell_type": "code",
   "execution_count": 168,
   "metadata": {},
   "outputs": [],
   "source": [
    "VK_SECRET = 'VeKnPzXVGajCv******'\n",
    "VK_KEY = '381fa545381fa545381fa5458f387eab6e3381f381fa5456267ce2d46086178c8******'\n",
    "\n",
    "GROUPS_FOLDER = 'groups'"
   ]
  },
  {
   "cell_type": "code",
   "execution_count": 127,
   "metadata": {},
   "outputs": [
    {
     "data": {
      "text/plain": [
       "'@@NAME, вы есть будите, то что я приготовлю!) А не на троих соображать😜😂'"
      ]
     },
     "execution_count": 127,
     "metadata": {},
     "output_type": "execute_result"
    }
   ],
   "source": [
    "vkname_subs_re = re.compile('\\[id\\d+\\|[^\\]]+\\]')\n",
    "\n"
   ]
  },
  {
   "cell_type": "code",
   "execution_count": 35,
   "metadata": {},
   "outputs": [
    {
     "data": {
      "text/plain": [
       "[{'first_name': 'Павел', 'last_name': 'Дуров', 'uid': 1}]"
      ]
     },
     "execution_count": 35,
     "metadata": {},
     "output_type": "execute_result"
    }
   ],
   "source": [
    "session = vk.Session(access_token=VK_KEY)\n",
    "api = vk.API(session)\n"
   ]
  },
  {
   "cell_type": "code",
   "execution_count": 142,
   "metadata": {},
   "outputs": [],
   "source": [
    "def text_preprocess(raw_text):\n",
    "    text = vkname_subs_re.sub('@@NAME', raw_text)\n",
    "    text = html2text(text)\n",
    "    return text"
   ]
  },
  {
   "cell_type": "code",
   "execution_count": 132,
   "metadata": {},
   "outputs": [],
   "source": [
    "group_id = 113651367\n",
    "\n"
   ]
  },
  {
   "cell_type": "code",
   "execution_count": 152,
   "metadata": {},
   "outputs": [],
   "source": [
    "def download_messages_from_group(group_id):\n",
    "    messages = []\n",
    "    all_msg_count, *items = api.wall.get(owner_id=-group_id, count=1)\n",
    "    print('all_msg_count', all_msg_count)\n",
    "    msg_processed_count = 0\n",
    "    \n",
    "    while all_msg_count > msg_processed_count:\n",
    "        _, *items = api.wall.get(owner_id=-group_id, count=100, offset=msg_processed_count)\n",
    "        print(len(items))\n",
    "        msg_processed_count += len(items)        \n",
    "\n",
    "        for i in items:\n",
    "            assert i['post_type'] == 'post', i\n",
    "            if 'is_pinned' in i:\n",
    "                continue\n",
    "\n",
    "            messages.append(text_preprocess(i['text']))    \n",
    "\n",
    "            replay_count, *replays = api.wall.getComments(owner_id=-group_id, post_id=i['id'], count=100)\n",
    "            for r in replays:\n",
    "                messages.append(text_preprocess(r['text']))\n",
    "\n",
    "\n",
    "    return messages"
   ]
  },
  {
   "cell_type": "code",
   "execution_count": 154,
   "metadata": {},
   "outputs": [
    {
     "name": "stdout",
     "output_type": "stream",
     "text": [
      "all_msg_count 3\n",
      "3\n"
     ]
    }
   ],
   "source": [
    "msgs = download_messages_from_group(160967118)"
   ]
  },
  {
   "cell_type": "code",
   "execution_count": 173,
   "metadata": {},
   "outputs": [],
   "source": [
    "group_link = 'https://vk.com/event113651367'"
   ]
  },
  {
   "cell_type": "code",
   "execution_count": 174,
   "metadata": {},
   "outputs": [
    {
     "name": "stdout",
     "output_type": "stream",
     "text": [
      "all_msg_count 188\n",
      "100\n",
      "88\n"
     ]
    },
    {
     "ename": "AssertionError",
     "evalue": "",
     "output_type": "error",
     "traceback": [
      "\u001b[0;31m---------------------------------------------------------------------------\u001b[0m",
      "\u001b[0;31mAssertionError\u001b[0m                            Traceback (most recent call last)",
      "\u001b[0;32m<ipython-input-174-97160825cc41>\u001b[0m in \u001b[0;36m<module>\u001b[0;34m()\u001b[0m\n\u001b[1;32m      4\u001b[0m \u001b[0mgroup_file_name\u001b[0m \u001b[0;34m=\u001b[0m \u001b[0mgroup_name\u001b[0m \u001b[0;34m+\u001b[0m \u001b[0;34m'.jsonl'\u001b[0m\u001b[0;34m\u001b[0m\u001b[0m\n\u001b[1;32m      5\u001b[0m \u001b[0;34m\u001b[0m\u001b[0m\n\u001b[0;32m----> 6\u001b[0;31m \u001b[0mgroup_all_messages\u001b[0m \u001b[0;34m=\u001b[0m \u001b[0mdownload_messages_from_group\u001b[0m\u001b[0;34m(\u001b[0m\u001b[0mgroup_id\u001b[0m\u001b[0;34m)\u001b[0m\u001b[0;34m\u001b[0m\u001b[0m\n\u001b[0m\u001b[1;32m      7\u001b[0m \u001b[0;32mwith\u001b[0m \u001b[0mopen\u001b[0m\u001b[0;34m(\u001b[0m\u001b[0mos\u001b[0m\u001b[0;34m.\u001b[0m\u001b[0mpath\u001b[0m\u001b[0;34m.\u001b[0m\u001b[0mjoin\u001b[0m\u001b[0;34m(\u001b[0m\u001b[0mGROUPS_FOLDER\u001b[0m\u001b[0;34m,\u001b[0m \u001b[0mgroup_file_name\u001b[0m\u001b[0;34m)\u001b[0m\u001b[0;34m,\u001b[0m \u001b[0;34m'w'\u001b[0m\u001b[0;34m)\u001b[0m \u001b[0;32mas\u001b[0m \u001b[0mf\u001b[0m\u001b[0;34m:\u001b[0m\u001b[0;34m\u001b[0m\u001b[0m\n\u001b[1;32m      8\u001b[0m     \u001b[0;32mfor\u001b[0m \u001b[0mm\u001b[0m \u001b[0;32min\u001b[0m \u001b[0mgroup_all_messages\u001b[0m\u001b[0;34m:\u001b[0m\u001b[0;34m\u001b[0m\u001b[0m\n",
      "\u001b[0;32m<ipython-input-152-4b77ac4f084e>\u001b[0m in \u001b[0;36mdownload_messages_from_group\u001b[0;34m(group_id)\u001b[0m\n\u001b[1;32m     11\u001b[0m \u001b[0;34m\u001b[0m\u001b[0m\n\u001b[1;32m     12\u001b[0m         \u001b[0;32mfor\u001b[0m \u001b[0mi\u001b[0m \u001b[0;32min\u001b[0m \u001b[0mitems\u001b[0m\u001b[0;34m:\u001b[0m\u001b[0;34m\u001b[0m\u001b[0m\n\u001b[0;32m---> 13\u001b[0;31m             \u001b[0;32massert\u001b[0m \u001b[0mi\u001b[0m\u001b[0;34m[\u001b[0m\u001b[0;34m'post_type'\u001b[0m\u001b[0;34m]\u001b[0m \u001b[0;34m==\u001b[0m \u001b[0;34m'post'\u001b[0m\u001b[0;34m\u001b[0m\u001b[0m\n\u001b[0m\u001b[1;32m     14\u001b[0m             \u001b[0;32mif\u001b[0m \u001b[0;34m'is_pinned'\u001b[0m \u001b[0;32min\u001b[0m \u001b[0mi\u001b[0m\u001b[0;34m:\u001b[0m\u001b[0;34m\u001b[0m\u001b[0m\n\u001b[1;32m     15\u001b[0m                 \u001b[0;32mcontinue\u001b[0m\u001b[0;34m\u001b[0m\u001b[0m\n",
      "\u001b[0;31mAssertionError\u001b[0m: "
     ]
    }
   ],
   "source": [
    "\n",
    "group_name = re.findall('event\\d+', group_link)[0]\n",
    "group_id = int(re.findall('\\d+', group_name)[0])\n",
    "group_file_name = group_name + '.jsonl'\n",
    "\n",
    "group_all_messages = download_messages_from_group(group_id)\n",
    "with open(os.path.join(GROUPS_FOLDER, group_file_name), 'w') as f:\n",
    "    for m in group_all_messages:\n",
    "        print(json.dumps({'text': m}), file=f)\n",
    "    print('Wrote {} messages to {}'.format(len(group_all_messages), group_file_name))"
   ]
  },
  {
   "cell_type": "code",
   "execution_count": 178,
   "metadata": {},
   "outputs": [
    {
     "data": {
      "text/plain": [
       "30000.0"
      ]
     },
     "execution_count": 178,
     "metadata": {},
     "output_type": "execute_result"
    }
   ],
   "source": [
    "2000 * 3 * 10 / 8 * 4"
   ]
  }
 ],
 "metadata": {
  "kernelspec": {
   "display_name": "Python 3",
   "language": "python",
   "name": "python3"
  },
  "language_info": {
   "codemirror_mode": {
    "name": "ipython",
    "version": 3
   },
   "file_extension": ".py",
   "mimetype": "text/x-python",
   "name": "python",
   "nbconvert_exporter": "python",
   "pygments_lexer": "ipython3",
   "version": "3.6.3"
  }
 },
 "nbformat": 4,
 "nbformat_minor": 2
}
