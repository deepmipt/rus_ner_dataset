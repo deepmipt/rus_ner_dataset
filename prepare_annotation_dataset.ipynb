{
 "cells": [
  {
   "cell_type": "code",
   "execution_count": 80,
   "metadata": {},
   "outputs": [],
   "source": [
    "from pathlib import Path\n",
    "import pandas as pd\n",
    "import numpy as np\n",
    "# from nltk.tokenize import wordpunct_tokenize\n",
    "from pymystem3 import Mystem\n",
    "import pickle\n",
    "from collections import defaultdict\n",
    "from sklearn.feature_extraction.text import TfidfVectorizer\n",
    "import csv\n",
    "\n",
    "\n",
    "_mystem = Mystem()\n",
    "\n",
    "DATA_FOLDER = Path('~/data/EUS').expanduser()\n",
    "\n",
    "unsup_quesions = list(pd.read_csv(DATA_FOLDER / 'zpp_questions.example.csv')['Название'])\n",
    "\n",
    "with (DATA_FOLDER / 'classes.list').open() as f:\n",
    "    class_names = [s.replace('\\n','') for s in f.readlines()]\n",
    "\n",
    "ANSWERS_1ST_TRY = DATA_FOLDER / 'first_classification.csv'\n",
    "    "
   ]
  },
  {
   "cell_type": "code",
   "execution_count": 38,
   "metadata": {},
   "outputs": [],
   "source": [
    "def lemmatize(s, tries=0):\n",
    "    global _mystem\n",
    "    try:\n",
    "        return [tok.strip() for tok in _mystem.lemmatize(s) if tok.strip()]\n",
    "    except BrokenPipeError:\n",
    "        if tries > 10:\n",
    "            raise\n",
    "        _mystem = Mystem()\n",
    "        return lemmatize(s, tries+1)\n",
    "\n",
    "with (DATA_FOLDER / 'senses.pkl').open('rb') as f:\n",
    "    abbr2senses = pickle.load(f)\n",
    "    \n",
    "_lemmatized_senses = {}\n",
    "\n",
    "sense2abbr = defaultdict(list)\n",
    "for abbr, senses in abbr2senses.items():\n",
    "    for s in senses:\n",
    "        l = ''.join(_mystem.lemmatize(s)).strip()\n",
    "        sense2abbr[l].append(abbr)\n",
    "\n",
    "for sense, abbrs in sense2abbr.items():\n",
    "    main_abbr = abbrs[0]\n",
    "    _lemmatized_senses[sense] = main_abbr\n",
    "    for a in abbrs[1:]:\n",
    "        _lemmatized_senses[a] = main_abbr\n",
    "        \n",
    "def desynonimize(text, synset=None):\n",
    "    \"\"\" Lemmatize and desynonimize text\n",
    "    \"\"\"\n",
    "\n",
    "    if synset is None:\n",
    "        synset = _lemmatized_senses\n",
    "\n",
    "    lemmas = lemmatize(text)\n",
    "    lemtext = ' '.join(lemmas).strip()\n",
    "\n",
    "    for s in synset:\n",
    "        if s in lemtext:\n",
    "            lemtext = lemtext.replace(s, synset[s].lower())\n",
    "    return lemtext"
   ]
  },
  {
   "cell_type": "code",
   "execution_count": 45,
   "metadata": {},
   "outputs": [
    {
     "name": "stdout",
     "output_type": "stream",
     "text": [
      "CPU times: user 7.71 s, sys: 345 ms, total: 8.05 s\n",
      "Wall time: 24.7 s\n"
     ]
    }
   ],
   "source": [
    "%time tfidf = TfidfVectorizer().fit([desynonimize(c) for c in class_names+unsup_quesions])"
   ]
  },
  {
   "cell_type": "code",
   "execution_count": 46,
   "metadata": {},
   "outputs": [
    {
     "name": "stderr",
     "output_type": "stream",
     "text": [
      "/home/marat/.local/lib/python3.6/site-packages/sklearn/feature_extraction/text.py:1089: FutureWarning: Conversion of the second argument of issubdtype from `float` to `np.floating` is deprecated. In future, it will be treated as `np.float64 == np.dtype(float).type`.\n",
      "  if hasattr(X, 'dtype') and np.issubdtype(X.dtype, np.float):\n"
     ]
    }
   ],
   "source": [
    "class_tfidf = tfidf.transform([desynonimize(c) for c in class_names])"
   ]
  },
  {
   "cell_type": "code",
   "execution_count": 52,
   "metadata": {},
   "outputs": [
    {
     "name": "stderr",
     "output_type": "stream",
     "text": [
      "/home/marat/.local/lib/python3.6/site-packages/sklearn/feature_extraction/text.py:1089: FutureWarning: Conversion of the second argument of issubdtype from `float` to `np.floating` is deprecated. In future, it will be treated as `np.float64 == np.dtype(float).type`.\n",
      "  if hasattr(X, 'dtype') and np.issubdtype(X.dtype, np.float):\n"
     ]
    }
   ],
   "source": [
    "unsup_tfidf = tfidf.transform([desynonimize(c) for c in unsup_quesions])"
   ]
  },
  {
   "cell_type": "code",
   "execution_count": 81,
   "metadata": {},
   "outputs": [],
   "source": [
    "res = (class_tfidf @ unsup_tfidf.T).T\n",
    "\n",
    "with ANSWERS_1ST_TRY.open('w') as f:\n",
    "    cw = csv.writer(f)\n",
    "    cw.writerow(['question', 'class'])\n",
    "    \n",
    "    for i, q in enumerate(unsup_quesions):\n",
    "        t = res[i].toarray()[0]\n",
    "        a = t.argmax()\n",
    "        cw.writerow([q, class_names[a]])"
   ]
  }
 ],
 "metadata": {
  "kernelspec": {
   "display_name": "Python 3",
   "language": "python",
   "name": "python3"
  },
  "language_info": {
   "codemirror_mode": {
    "name": "ipython",
    "version": 3
   },
   "file_extension": ".py",
   "mimetype": "text/x-python",
   "name": "python",
   "nbconvert_exporter": "python",
   "pygments_lexer": "ipython3",
   "version": "3.6.3"
  }
 },
 "nbformat": 4,
 "nbformat_minor": 2
}
