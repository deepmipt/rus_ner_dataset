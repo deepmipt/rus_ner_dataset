{
 "cells": [
  {
   "cell_type": "code",
   "execution_count": 145,
   "metadata": {},
   "outputs": [],
   "source": [
    "import json\n",
    "import re\n",
    "from nltk.tokenize import wordpunct_tokenize\n",
    "import csv\n",
    "import numpy as np\n",
    "from emoji import UNICODE_EMOJI\n",
    "import dateutil.parser\n",
    "\n",
    "# DATA_INPUT_FILE = '/data/NER/VectorX/documents_description_objects_100K.json'\n",
    "DATA_INPUT_FILE = '/data/NER/VectorX/documents_description_objects_100K_random.json'\n",
    "DATA_ALL_OUTPUT_FILE = '/data/NER/VectorX/dataset.csv'\n",
    "DATA_TOLOKA_FILE_TEMPLATE = '/data/NER/VectorX/toloka_{}.tsv'"
   ]
  },
  {
   "cell_type": "code",
   "execution_count": 119,
   "metadata": {},
   "outputs": [],
   "source": [
    "quoter = re.compile(r\"(«|»|“|”|``|')\")\n",
    "tokenizer = re.compile(r\"[\\w']+|[^\\w ]\")\n",
    "\n",
    "def tokenize(s):\n",
    "    return tokenizer.findall(quoter.sub('\"', s))"
   ]
  },
  {
   "cell_type": "code",
   "execution_count": 120,
   "metadata": {},
   "outputs": [],
   "source": [
    "def has_emoji(s):\n",
    "    for emoji in UNICODE_EMOJI:\n",
    "        if emoji in s:\n",
    "            return True\n",
    "    return False\n",
    "\n",
    "_bad_beginnings = ['[id', 'Фото', 'Смотрите', 'Скачать', 'Оригинал взят']\n",
    "_bad_substrings = ['!!', '...']\n",
    "def check(t: str) -> bool:\n",
    "    for bb in _bad_beginnings:           \n",
    "        if t.startswith(bb):\n",
    "            return False\n",
    "    for bs in _bad_substrings:\n",
    "        if bs in t:\n",
    "            return False\n",
    "    \n",
    "    if has_emoji(t):\n",
    "        return False\n",
    "    \n",
    "    return t.count('(') == t.count(')')"
   ]
  },
  {
   "cell_type": "code",
   "execution_count": 121,
   "metadata": {},
   "outputs": [
    {
     "name": "stdout",
     "output_type": "stream",
     "text": [
      "CPU times: user 17.1 s, sys: 123 ms, total: 17.2 s\n",
      "Wall time: 17.2 s\n"
     ]
    }
   ],
   "source": [
    "%%time\n",
    "lines = []\n",
    "data = []\n",
    "NumberInt = re.compile(r'NumberInt\\((\\d+)\\)')\n",
    "ISODate = re.compile(r'ISODate\\((\"[^\"]+\")\\)')\n",
    "with open(DATA_INPUT_FILE) as f:\n",
    "    for line in f:\n",
    "        line = line.rstrip()        \n",
    "        m1 = NumberInt.findall(line)\n",
    "        if m1:\n",
    "            line = NumberInt.sub(m1[0], line)\n",
    "        m2 = ISODate.findall(line)\n",
    "        if m2:\n",
    "            line = ISODate.sub(m2[0], line)\n",
    "            \n",
    "        lines.append(line)\n",
    "        if line == '}':\n",
    "#             print('\\n'.join(lines))\n",
    "            j_orig = json.loads('\\n'.join(lines))\n",
    "            pub_date = j_orig['rss_pubDate']\n",
    "        \n",
    "            assert len(j_orig) == 2\n",
    "            j = j_orig['rss']            \n",
    "            \n",
    "            assert len(j) == 1\n",
    "            j = j['channel']\n",
    "            assert len(j) == 1\n",
    "            j = j['item']\n",
    "            \n",
    "            description = j['description']\n",
    "            guid = j['guid']\n",
    "            objects = j['objects'].get('object', [])\n",
    "            \n",
    "            if description and isinstance(description, str):\n",
    "                # assert isinstance(description, str), f'\"{description}\" is not str in object {j_orig}'\n",
    "                tokenized = tokenize(description)\n",
    "                description_tokenized = ' '.join(tokenized)\n",
    "                \n",
    "                data.append([guid, description, description_tokenized, len(tokenized), pub_date, objects])            \n",
    "            lines = []"
   ]
  },
  {
   "cell_type": "code",
   "execution_count": 122,
   "metadata": {},
   "outputs": [
    {
     "name": "stdout",
     "output_type": "stream",
     "text": [
      "CPU times: user 7.71 s, sys: 600 ms, total: 8.31 s\n",
      "Wall time: 10.6 s\n"
     ]
    }
   ],
   "source": [
    "%%time\n",
    "with open(DATA_ALL_OUTPUT_FILE, 'w') as fw:\n",
    "    cw = csv.writer(fw)\n",
    "    cw.writerow(['guid', 'descriptions', 'description_tokenized', 'token_count', 'pub_date', 'objects'])\n",
    "    for row in data:\n",
    "        cw.writerow(row)       "
   ]
  },
  {
   "cell_type": "code",
   "execution_count": 147,
   "metadata": {},
   "outputs": [
    {
     "name": "stdout",
     "output_type": "stream",
     "text": [
      "Writing to file /data/NER/VectorX/toloka_2017-08-01.tsv\n",
      "wrote 3831 articles\n",
      "CPU times: user 7.34 s, sys: 15.6 ms, total: 7.36 s\n",
      "Wall time: 7.36 s\n"
     ]
    }
   ],
   "source": [
    "%%time\n",
    "\n",
    "target_date = datetime(2017, 8, 1).replace(tzinfo=pytz.UTC).date()\n",
    "toloka_file = DATA_TOLOKA_FILE_TEMPLATE.format(target_date)\n",
    "\n",
    "print(f'Writing to file {toloka_file}')\n",
    "\n",
    "c = 0\n",
    "with open(toloka_file, 'w') as fw:\n",
    "    cw = csv.writer(fw, delimiter='\\t')\n",
    "    cw.writerow(['INPUT:guid', 'INPUT:orig', 'INPUT:input'])\n",
    "    for guid, descriptions, description_tokenized, token_count, pub_date, objects in data:        \n",
    "        row_date = dateutil.parser.parse(pub_date).date()\n",
    "        if 40 < token_count < 1750 and row_date == target_date:\n",
    "            c += 1\n",
    "            cw.writerow([guid, description, description_tokenized])\n",
    "print(f'wrote {c} articles')"
   ]
  },
  {
   "cell_type": "code",
   "execution_count": 66,
   "metadata": {},
   "outputs": [
    {
     "data": {
      "text/plain": [
       "17024"
      ]
     },
     "execution_count": 66,
     "metadata": {},
     "output_type": "execute_result"
    }
   ],
   "source": [
    "len([d for d in ds if d < datetime(2017, 8, 5).replace(tzinfo=pytz.UTC)])"
   ]
  },
  {
   "cell_type": "code",
   "execution_count": 15,
   "metadata": {},
   "outputs": [
    {
     "data": {
      "image/png": "[encoded data removed]",
      "text/plain": [
       "<matplotlib.figure.Figure at 0x7f1136481a90>"
      ]
     },
     "metadata": {},
     "output_type": "display_data"
    }
   ],
   "source": [
    "import matplotlib.pyplot as plt\n",
    "plt.hist(ds)\n",
    "plt.show()"
   ]
  },
  {
   "cell_type": "code",
   "execution_count": 126,
   "metadata": {},
   "outputs": [
    {
     "data": {
      "image/png": "[encoded data removed]",
      "text/plain": [
       "<matplotlib.figure.Figure at 0x7f112c1913c8>"
      ]
     },
     "metadata": {},
     "output_type": "display_data"
    }
   ],
   "source": [
    "plt.hist(L[L<1750], bins=100)\n",
    "plt.show()"
   ]
  },
  {
   "cell_type": "code",
   "execution_count": null,
   "metadata": {},
   "outputs": [],
   "source": []
  }
 ],
 "metadata": {
  "kernelspec": {
   "display_name": "Python 3",
   "language": "python",
   "name": "python3"
  },
  "language_info": {
   "codemirror_mode": {
    "name": "ipython",
    "version": 3
   },
   "file_extension": ".py",
   "mimetype": "text/x-python",
   "name": "python",
   "nbconvert_exporter": "python",
   "pygments_lexer": "ipython3",
   "version": "3.6.3"
  }
 },
 "nbformat": 4,
 "nbformat_minor": 2
}
