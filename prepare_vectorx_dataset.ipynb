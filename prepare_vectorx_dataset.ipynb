{
 "cells": [
  {
   "cell_type": "code",
   "execution_count": 1,
   "metadata": {},
   "outputs": [],
   "source": [
    "import json\n",
    "import re\n",
    "from nltk.tokenize import wordpunct_tokenize\n",
    "import csv\n",
    "import numpy as np\n",
    "from emoji import UNICODE_EMOJI\n",
    "import dateutil.parser\n",
    "import html\n",
    "from datetime import datetime\n",
    "import pytz\n",
    "\n",
    "# DATA_INPUT_FILE = '/data/NER/VectorX/documents_description_objects_100K.json'\n",
    "DATA_INPUT_FILE = '/data/NER/VectorX/documents_description_objects_100K_random.json'\n",
    "DATA_ALL_OUTPUT_FILE = '/data/NER/VectorX/dataset.csv'\n",
    "DATA_TOLOKA_FILE_TEMPLATE = '/data/NER/VectorX/toloka_{}.tsv'"
   ]
  },
  {
   "cell_type": "code",
   "execution_count": 2,
   "metadata": {},
   "outputs": [],
   "source": [
    "san_dquoter = re.compile(r\"(«|»|“|”|``|')\")\n",
    "san_tokenizer = re.compile(r\"[\\w']+|[^\\w ]\")\n",
    "\n",
    "\n",
    "def tokenize(s):\n",
    "    return san_tokenizer.findall(san_dquoter.sub('\"', s))"
   ]
  },
  {
   "cell_type": "code",
   "execution_count": 3,
   "metadata": {},
   "outputs": [],
   "source": [
    "def has_emoji(s):\n",
    "    for emoji in UNICODE_EMOJI:\n",
    "        if emoji in s:\n",
    "            return True\n",
    "    return False\n",
    "\n",
    "_bad_beginnings = ['[id', 'Фото', 'Смотрите', 'Скачать', 'Оригинал взят']\n",
    "_bad_substrings = ['!!', '...']\n",
    "def check(t: str) -> bool:\n",
    "    for bb in _bad_beginnings:           \n",
    "        if t.startswith(bb):\n",
    "            return False\n",
    "    for bs in _bad_substrings:\n",
    "        if bs in t:\n",
    "            return False\n",
    "    \n",
    "    if has_emoji(t):\n",
    "        return False\n",
    "    \n",
    "    return t.count('(') == t.count(')')"
   ]
  },
  {
   "cell_type": "code",
   "execution_count": 19,
   "metadata": {},
   "outputs": [
    {
     "name": "stdout",
     "output_type": "stream",
     "text": [
      "Read 98968 articles\n",
      "CPU times: user 26.5 s, sys: 597 ms, total: 27.1 s\n",
      "Wall time: 27 s\n"
     ]
    }
   ],
   "source": [
    "%%time\n",
    "lines = []\n",
    "data = []\n",
    "NumberInt = re.compile(r'NumberInt\\((\\d+)\\)')\n",
    "ISODate = re.compile(r'ISODate\\((\"[^\"]+\")\\)')\n",
    "\n",
    "quoter = re.compile(r'& ?[qQ]uot ?;')\n",
    "amper = re.compile(r'& ?amp ?; ?')\n",
    "words_re = re.compile(r'\\w+')\n",
    "\n",
    "photo_re = re.compile(r'[Фф]ото: [\\.a-zA-Z0-9\\-]+\\.[a-zA-Z]+')\n",
    "\n",
    "counter = 0\n",
    "\n",
    "descr_set = set()\n",
    "\n",
    "with open(DATA_INPUT_FILE) as f:\n",
    "    for line in f:\n",
    "        line = line.rstrip()        \n",
    "        m1 = NumberInt.findall(line)\n",
    "        if m1:\n",
    "            line = NumberInt.sub(m1[0], line)\n",
    "        m2 = ISODate.findall(line)\n",
    "        if m2:\n",
    "            line = ISODate.sub(m2[0], line)\n",
    "            \n",
    "        lines.append(line)\n",
    "        if line == '}':\n",
    "#             print('\\n'.join(lines))\n",
    "            j_orig = json.loads('\\n'.join(lines))\n",
    "            pub_date = j_orig['rss_pubDate']\n",
    "        \n",
    "            assert len(j_orig) == 2\n",
    "            j = j_orig['rss']            \n",
    "            assert len(j) == 1\n",
    "            j = j['channel']\n",
    "            assert len(j) == 1\n",
    "            j = j['item']\n",
    "            \n",
    "            raw_description = j['description']\n",
    "            guid = j['guid']\n",
    "            objects = j['objects'].get('object', [])\n",
    "\n",
    "            \n",
    "            if raw_description and isinstance(raw_description, str):\n",
    "                # assert isinstance(description, str), f'\"{description}\" is not str in object {j_orig}'\n",
    "                description = html.unescape(quoter.sub('&quot;', amper.sub('&', photo_re.sub('', raw_description))))\n",
    "                \n",
    "                words_only = tuple(words_re.findall(description.lower()))\n",
    "                if words_only not in descr_set:\n",
    "                    descr_set.add(words_only)\n",
    "                    tokenized = tokenize(description)\n",
    "                    description_tokenized = ' '.join(tokenized)\n",
    "                    data.append([guid, description, description_tokenized, len(tokenized), pub_date, objects])            \n",
    "                    counter += 1\n",
    "\n",
    "            lines = []\n",
    "print(f'Read {counter} articles')"
   ]
  },
  {
   "cell_type": "code",
   "execution_count": 20,
   "metadata": {},
   "outputs": [
    {
     "name": "stdout",
     "output_type": "stream",
     "text": [
      "CPU times: user 7.55 s, sys: 536 ms, total: 8.08 s\n",
      "Wall time: 10.4 s\n"
     ]
    }
   ],
   "source": [
    "%%time\n",
    "with open(DATA_ALL_OUTPUT_FILE, 'w') as fw:\n",
    "    cw = csv.writer(fw)\n",
    "    cw.writerow(['guid', 'descriptions', 'description_tokenized', 'token_count', 'pub_date', 'objects'])\n",
    "    for row in data:\n",
    "        cw.writerow(row)       "
   ]
  },
  {
   "cell_type": "code",
   "execution_count": 21,
   "metadata": {},
   "outputs": [
    {
     "name": "stdout",
     "output_type": "stream",
     "text": [
      "Writing to file /data/NER/VectorX/toloka_2017-08-31.tsv\n",
      "wrote 257 articles\n",
      "CPU times: user 7.15 s, sys: 19.6 ms, total: 7.17 s\n",
      "Wall time: 7.16 s\n"
     ]
    }
   ],
   "source": [
    "%%time\n",
    "\n",
    "# target_date = datetime(2017, 8, 1).replace(tzinfo=pytz.UTC).date()\n",
    "target_date = datetime(2017, 8, 31).replace(tzinfo=pytz.UTC).date()\n",
    "toloka_file = DATA_TOLOKA_FILE_TEMPLATE.format(target_date)\n",
    "\n",
    "print(f'Writing to file {toloka_file}')\n",
    "\n",
    "c = 0\n",
    "with open(toloka_file, 'w') as fw:\n",
    "    cw = csv.writer(fw, delimiter='\\t')\n",
    "    cw.writerow(['INPUT:guid', 'INPUT:orig', 'INPUT:input'])\n",
    "    for guid, description, description_tokenized, token_count, pub_date, objects in data:        \n",
    "        row_date = dateutil.parser.parse(pub_date).date()\n",
    "        if 40 < token_count < 1750 and row_date == target_date:\n",
    "            c += 1\n",
    "            cw.writerow([guid, description, description_tokenized])\n",
    "print(f'wrote {c} articles')"
   ]
  },
  {
   "cell_type": "code",
   "execution_count": 17,
   "metadata": {},
   "outputs": [
    {
     "data": {
      "text/plain": [
       "'2017-08-31T23:45:16.000+0000'"
      ]
     },
     "execution_count": 17,
     "metadata": {},
     "output_type": "execute_result"
    }
   ],
   "source": [
    "max([d[4] for d in data])"
   ]
  },
  {
   "cell_type": "code",
   "execution_count": 83,
   "metadata": {},
   "outputs": [
    {
     "ename": "NameError",
     "evalue": "name 'ds' is not defined",
     "output_type": "error",
     "traceback": [
      "\u001b[0;31m---------------------------------------------------------------------------\u001b[0m",
      "\u001b[0;31mNameError\u001b[0m                                 Traceback (most recent call last)",
      "\u001b[0;32m<ipython-input-83-f1e612916892>\u001b[0m in \u001b[0;36m<module>\u001b[0;34m()\u001b[0m\n\u001b[0;32m----> 1\u001b[0;31m \u001b[0mlen\u001b[0m\u001b[0;34m(\u001b[0m\u001b[0;34m[\u001b[0m\u001b[0md\u001b[0m \u001b[0;32mfor\u001b[0m \u001b[0md\u001b[0m \u001b[0;32min\u001b[0m \u001b[0mds\u001b[0m \u001b[0;32mif\u001b[0m \u001b[0md\u001b[0m \u001b[0;34m<\u001b[0m \u001b[0mdatetime\u001b[0m\u001b[0;34m(\u001b[0m\u001b[0;36m2017\u001b[0m\u001b[0;34m,\u001b[0m \u001b[0;36m8\u001b[0m\u001b[0;34m,\u001b[0m \u001b[0;36m5\u001b[0m\u001b[0;34m)\u001b[0m\u001b[0;34m.\u001b[0m\u001b[0mreplace\u001b[0m\u001b[0;34m(\u001b[0m\u001b[0mtzinfo\u001b[0m\u001b[0;34m=\u001b[0m\u001b[0mpytz\u001b[0m\u001b[0;34m.\u001b[0m\u001b[0mUTC\u001b[0m\u001b[0;34m)\u001b[0m\u001b[0;34m]\u001b[0m\u001b[0;34m)\u001b[0m\u001b[0;34m\u001b[0m\u001b[0m\n\u001b[0m",
      "\u001b[0;31mNameError\u001b[0m: name 'ds' is not defined"
     ]
    }
   ],
   "source": [
    "len([d for d in ds if d < datetime(2017, 8, 5).replace(tzinfo=pytz.UTC)])"
   ]
  },
  {
   "cell_type": "code",
   "execution_count": 84,
   "metadata": {},
   "outputs": [
    {
     "ename": "NameError",
     "evalue": "name 'ds' is not defined",
     "output_type": "error",
     "traceback": [
      "\u001b[0;31m---------------------------------------------------------------------------\u001b[0m",
      "\u001b[0;31mNameError\u001b[0m                                 Traceback (most recent call last)",
      "\u001b[0;32m<ipython-input-84-7ec06abec307>\u001b[0m in \u001b[0;36m<module>\u001b[0;34m()\u001b[0m\n\u001b[1;32m      1\u001b[0m \u001b[0;32mimport\u001b[0m \u001b[0mmatplotlib\u001b[0m\u001b[0;34m.\u001b[0m\u001b[0mpyplot\u001b[0m \u001b[0;32mas\u001b[0m \u001b[0mplt\u001b[0m\u001b[0;34m\u001b[0m\u001b[0m\n\u001b[0;32m----> 2\u001b[0;31m \u001b[0mplt\u001b[0m\u001b[0;34m.\u001b[0m\u001b[0mhist\u001b[0m\u001b[0;34m(\u001b[0m\u001b[0mds\u001b[0m\u001b[0;34m)\u001b[0m\u001b[0;34m\u001b[0m\u001b[0m\n\u001b[0m\u001b[1;32m      3\u001b[0m \u001b[0mplt\u001b[0m\u001b[0;34m.\u001b[0m\u001b[0mshow\u001b[0m\u001b[0;34m(\u001b[0m\u001b[0;34m)\u001b[0m\u001b[0;34m\u001b[0m\u001b[0m\n",
      "\u001b[0;31mNameError\u001b[0m: name 'ds' is not defined"
     ]
    }
   ],
   "source": [
    "import matplotlib.pyplot as plt\n",
    "plt.hist(ds)\n",
    "plt.show()"
   ]
  },
  {
   "cell_type": "code",
   "execution_count": 85,
   "metadata": {},
   "outputs": [
    {
     "ename": "NameError",
     "evalue": "name 'L' is not defined",
     "output_type": "error",
     "traceback": [
      "\u001b[0;31m---------------------------------------------------------------------------\u001b[0m",
      "\u001b[0;31mNameError\u001b[0m                                 Traceback (most recent call last)",
      "\u001b[0;32m<ipython-input-85-5461dcd62471>\u001b[0m in \u001b[0;36m<module>\u001b[0;34m()\u001b[0m\n\u001b[0;32m----> 1\u001b[0;31m \u001b[0mplt\u001b[0m\u001b[0;34m.\u001b[0m\u001b[0mhist\u001b[0m\u001b[0;34m(\u001b[0m\u001b[0mL\u001b[0m\u001b[0;34m[\u001b[0m\u001b[0mL\u001b[0m\u001b[0;34m<\u001b[0m\u001b[0;36m1750\u001b[0m\u001b[0;34m]\u001b[0m\u001b[0;34m,\u001b[0m \u001b[0mbins\u001b[0m\u001b[0;34m=\u001b[0m\u001b[0;36m100\u001b[0m\u001b[0;34m)\u001b[0m\u001b[0;34m\u001b[0m\u001b[0m\n\u001b[0m\u001b[1;32m      2\u001b[0m \u001b[0mplt\u001b[0m\u001b[0;34m.\u001b[0m\u001b[0mshow\u001b[0m\u001b[0;34m(\u001b[0m\u001b[0;34m)\u001b[0m\u001b[0;34m\u001b[0m\u001b[0m\n",
      "\u001b[0;31mNameError\u001b[0m: name 'L' is not defined"
     ]
    }
   ],
   "source": [
    "plt.hist(L[L<1750], bins=100)\n",
    "plt.show()"
   ]
  },
  {
   "cell_type": "code",
   "execution_count": null,
   "metadata": {},
   "outputs": [],
   "source": []
  }
 ],
 "metadata": {
  "kernelspec": {
   "display_name": "Python 3",
   "language": "python",
   "name": "python3"
  },
  "language_info": {
   "codemirror_mode": {
    "name": "ipython",
    "version": 3
   },
   "file_extension": ".py",
   "mimetype": "text/x-python",
   "name": "python",
   "nbconvert_exporter": "python",
   "pygments_lexer": "ipython3",
   "version": "3.6.5"
  }
 },
 "nbformat": 4,
 "nbformat_minor": 2
}
