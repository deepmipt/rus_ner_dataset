{
 "cells": [
  {
   "cell_type": "code",
   "execution_count": 13,
   "metadata": {},
   "outputs": [],
   "source": [
    "import sys\n",
    "import csv\n",
    "from datetime import datetime\n",
    "import pytz, dateutil\n",
    "\n",
    "\n",
    "DATA_ALL_FILE = '/data/NER/VectorX/dataset.csv'\n",
    "DATA_TOLOKA_FILE_TEMPLATE = '/data/NER/VectorX/toloka_{}.tsv'\n",
    "FIRST_TOLOKA_TRAIN_FILE = '/data/NER/VectorX/toloka_{}_first.tsv'"
   ]
  },
  {
   "cell_type": "code",
   "execution_count": 5,
   "metadata": {},
   "outputs": [],
   "source": [
    "csv.field_size_limit(sys.maxsize)\n",
    "\n",
    "data = []\n",
    "with open(DATA_ALL_FILE) as fr:\n",
    "    cr = csv.reader(fr)\n",
    "    header = next(cr)\n",
    "    for row in cr:\n",
    "        data.append(row)"
   ]
  },
  {
   "cell_type": "code",
   "execution_count": 10,
   "metadata": {},
   "outputs": [
    {
     "name": "stdout",
     "output_type": "stream",
     "text": [
      "Writing to file /data/NER/VectorX/toloka_2017-08-01.tsv\n",
      "wrote 3762 articles\n",
      "CPU times: user 7.07 s, sys: 11.7 ms, total: 7.08 s\n",
      "Wall time: 7.08 s\n"
     ]
    }
   ],
   "source": [
    "%%time\n",
    "\n",
    "target_date = datetime(2017, 8, 1).replace(tzinfo=pytz.UTC).date()\n",
    "# target_date = datetime(2017, 8, 31).replace(tzinfo=pytz.UTC).date()\n",
    "toloka_file = DATA_TOLOKA_FILE_TEMPLATE.format(target_date)\n",
    "\n",
    "print(f'Writing to file {toloka_file}')\n",
    "\n",
    "c = 0\n",
    "with open(toloka_file, 'w') as fw:\n",
    "    cw = csv.writer(fw, delimiter='\\t')\n",
    "    cw.writerow(['INPUT:guid', 'INPUT:orig', 'INPUT:input'])\n",
    "    for guid, description, description_tokenized, token_count, pub_date, objects, sdwr in data:        \n",
    "        row_date = dateutil.parser.parse(pub_date).date()\n",
    "        if 40 < int(token_count) < 1750 and row_date == target_date and float(sdwr) < 0.15:\n",
    "            c += 1\n",
    "            cw.writerow([guid, description, description_tokenized])\n",
    "print(f'wrote {c} articles')"
   ]
  },
  {
   "cell_type": "code",
   "execution_count": 14,
   "metadata": {},
   "outputs": [
    {
     "name": "stdout",
     "output_type": "stream",
     "text": [
      "Writing to file /data/NER/VectorX/toloka_2017-08-01_first.tsv\n",
      "wrote 376 articles\n",
      "CPU times: user 6.69 s, sys: 7.94 ms, total: 6.7 s\n",
      "Wall time: 6.72 s\n"
     ]
    }
   ],
   "source": [
    "%%time\n",
    "\n",
    "toloka_file = FIRST_TOLOKA_TRAIN_FILE.format(target_date)\n",
    "\n",
    "print(f'Writing to file {toloka_file}')\n",
    "\n",
    "c = 0\n",
    "with open(toloka_file, 'w') as fw:\n",
    "    cw = csv.writer(fw, delimiter='\\t')\n",
    "    cw.writerow(['INPUT:guid', 'INPUT:orig', 'INPUT:input'])\n",
    "    for guid, description, description_tokenized, token_count, pub_date, objects, sdwr in data:        \n",
    "        row_date = dateutil.parser.parse(pub_date).date()\n",
    "        if 40 < int(token_count) < 1750 and row_date == target_date and float(sdwr) < 0.15:            \n",
    "            if int(guid) % 10 == 0:\n",
    "                c += 1\n",
    "                cw.writerow([guid, description, description_tokenized])\n",
    "print(f'wrote {c} articles')"
   ]
  },
  {
   "cell_type": "code",
   "execution_count": null,
   "metadata": {},
   "outputs": [],
   "source": []
  }
 ],
 "metadata": {
  "kernelspec": {
   "display_name": "Python 3",
   "language": "python",
   "name": "python3"
  },
  "language_info": {
   "codemirror_mode": {
    "name": "ipython",
    "version": 3
   },
   "file_extension": ".py",
   "mimetype": "text/x-python",
   "name": "python",
   "nbconvert_exporter": "python",
   "pygments_lexer": "ipython3",
   "version": "3.6.5"
  }
 },
 "nbformat": 4,
 "nbformat_minor": 2
}
